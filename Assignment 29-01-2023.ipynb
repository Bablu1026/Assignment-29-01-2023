{
 "cells": [
  {
   "cell_type": "raw",
   "id": "0e173ec7-8bc8-4d74-b4d2-ed60dad799d1",
   "metadata": {},
   "source": [
    "Q:1 who developed Python programming language?\n",
    "Ans: Guido Van Rossum"
   ]
  },
  {
   "cell_type": "raw",
   "id": "18259987-42fb-467e-89ba-dd1d4e41abdc",
   "metadata": {},
   "source": [
    "Q:2 which type of programming does python support?\n",
    "Ans: Object-oriented programming and structured programming."
   ]
  },
  {
   "cell_type": "raw",
   "id": "0cbabdb0-68ba-468c-bee6-32fcbd0849e9",
   "metadata": {},
   "source": [
    "Q:3 Is python case is sensitive when dealing with indentifier?\n",
    "Ans: yes"
   ]
  },
  {
   "cell_type": "raw",
   "id": "0f29449e-3a8d-4477-8cd4-611205e7988e",
   "metadata": {},
   "source": [
    "Q:4 what is the correct extension of the python file?\n",
    "Ans: .py"
   ]
  },
  {
   "cell_type": "raw",
   "id": "b12167f2-ffd3-4f28-af53-a624c0079299",
   "metadata": {},
   "source": [
    "Q:5 Is python code compiled or interpreted?\n",
    "Ans: It is intrepreted."
   ]
  },
  {
   "cell_type": "raw",
   "id": "615186cf-e710-4a0b-ba85-27454e11ccc2",
   "metadata": {},
   "source": [
    "Q:6 Name a few blocks of code used to define in python language?\n",
    "Ans:  a module, a function body, and a class definition"
   ]
  },
  {
   "cell_type": "raw",
   "id": "994c5f21-af51-4b2a-9a98-644a0f1b4829",
   "metadata": {},
   "source": [
    "Q:7 State a character used to give sinle-line comments in python?\n",
    "Ans: # is used "
   ]
  },
  {
   "cell_type": "raw",
   "id": "631ff29a-1c87-4cda-a903-3fe40290ee9e",
   "metadata": {},
   "source": [
    "Q:8 Mention functions which can help us to find the version of python that we are currently working on it?\n",
    "Ans: from platform import python_version\n",
    "     print(python_version())"
   ]
  },
  {
   "cell_type": "raw",
   "id": "8f093d1b-6af2-4f99-a291-30c582d99ae2",
   "metadata": {},
   "source": [
    "Q:9 Python supports the creation of anonymous function at runtime,using construct called\n",
    "Ans: lambda"
   ]
  },
  {
   "cell_type": "raw",
   "id": "78c403b4-80c2-40f2-9246-8afd082a4faa",
   "metadata": {},
   "source": [
    "Q:10 What does pip stand for python?\n",
    "Ans: preferr installer program"
   ]
  },
  {
   "cell_type": "raw",
   "id": "2d20de2b-8c6f-4ef9-9dcd-5601f7db0a1a",
   "metadata": {},
   "source": [
    "Q:11 Mention a few built-in functions in python?\n",
    "Ans: append(),print(),type(),input()...etc"
   ]
  },
  {
   "cell_type": "raw",
   "id": "91203481-28e0-40b8-b99e-88f41876b86f",
   "metadata": {},
   "source": [
    "Q:12 What is the maximum possible length of an identifier in python?\n",
    "Ans: no such limit"
   ]
  },
  {
   "cell_type": "raw",
   "id": "920e1ee4-daf5-4f91-9e0a-91f4d4a98a87",
   "metadata": {},
   "source": [
    "Q:13 What are the benifits of using python?\n",
    "Ans: 1) Simple to Use and Understand. For newcomers, Python is simple to understand and use.\n",
    "     2) Free and Open-Source.\n",
    "     3) Productivity has Increased.\n",
    "     4) intrepreted Language."
   ]
  },
  {
   "cell_type": "raw",
   "id": "a4da764b-8c28-4d0d-90da-821069f8a554",
   "metadata": {},
   "source": [
    "Q:14 How is memory managed in python?\n",
    "Ans: Memory in Python is managed by Python private heap space"
   ]
  },
  {
   "cell_type": "raw",
   "id": "6bf36d09-bdd9-48ef-9767-7b407d9c0b59",
   "metadata": {},
   "source": [
    "Q:15 How to install python on windows and set path variable?\n",
    "Ans:  Installation:- Open a browser to the Python website and download the Windows installer. 2. Double click on the downloaded file and install Python for all users, and ensure that Python is added to your path. Click on Install now to begin.\n",
    "\n",
    "Path Way - Open a browser to the Python website and download the Windows installer. 2. Double click on the downloaded file and install Python for all users, and ensure that Python is added to your path. Click on Install now to begin\n"
   ]
  },
  {
   "cell_type": "raw",
   "id": "9ca74bbc-e668-468c-acf0-7fe635b3816b",
   "metadata": {},
   "source": [
    "Q:16 Is indentation required in python?\n",
    "Ans: yes "
   ]
  },
  {
   "cell_type": "raw",
   "id": "56ea1860-8578-4305-adea-fae94a0596ee",
   "metadata": {},
   "source": []
  },
  {
   "cell_type": "raw",
   "id": "25d172fd-845e-49ea-bd04-7977dd1ed819",
   "metadata": {},
   "source": []
  },
  {
   "cell_type": "raw",
   "id": "8e3226e4-9d3e-4a60-9b7a-4bc4d096ff81",
   "metadata": {},
   "source": []
  },
  {
   "cell_type": "raw",
   "id": "0f4f615b-b660-4a00-b623-ce4bae697d3b",
   "metadata": {},
   "source": []
  },
  {
   "cell_type": "raw",
   "id": "51267e21-8773-4614-a6c0-ac3f92522507",
   "metadata": {},
   "source": []
  },
  {
   "cell_type": "raw",
   "id": "b49fd459-f802-4163-ab31-659bc1ebcf54",
   "metadata": {},
   "source": []
  },
  {
   "cell_type": "raw",
   "id": "8c167d42-cd0f-478d-802c-0cc8a7f7e25e",
   "metadata": {},
   "source": []
  },
  {
   "cell_type": "raw",
   "id": "8c49f2e2-eaef-4b8b-8fe4-304718f8238a",
   "metadata": {},
   "source": []
  },
  {
   "cell_type": "raw",
   "id": "87141fd3-ef12-4dc8-b4e3-713ff6b27b1e",
   "metadata": {},
   "source": []
  },
  {
   "cell_type": "raw",
   "id": "bac8d53c-a632-4896-bc60-9e841504c220",
   "metadata": {},
   "source": []
  },
  {
   "cell_type": "raw",
   "id": "a5c1b914-e1e2-45f2-8025-ccf201798836",
   "metadata": {},
   "source": []
  },
  {
   "cell_type": "raw",
   "id": "12525167-510a-4c4b-b2ce-8d7f032c4d7b",
   "metadata": {},
   "source": []
  },
  {
   "cell_type": "raw",
   "id": "018fa67f-e24f-4a6e-8ca2-e842201b6cf6",
   "metadata": {},
   "source": []
  },
  {
   "cell_type": "raw",
   "id": "5acf92ff-f30c-46a6-bd5f-a747cbd2505b",
   "metadata": {},
   "source": []
  },
  {
   "cell_type": "raw",
   "id": "652410ed-e7e3-43c0-ba84-64d59344110e",
   "metadata": {},
   "source": []
  },
  {
   "cell_type": "raw",
   "id": "6eeb263c-f45f-412c-9826-a44d21ad6b90",
   "metadata": {},
   "source": []
  },
  {
   "cell_type": "raw",
   "id": "9c392af5-f8e2-4ef1-9587-a2c5c835044f",
   "metadata": {},
   "source": []
  },
  {
   "cell_type": "raw",
   "id": "45be2763-a5b4-4897-b82b-fc1e9fe552d7",
   "metadata": {},
   "source": []
  },
  {
   "cell_type": "raw",
   "id": "1cf23327-c260-4420-890f-2bd4312fd0da",
   "metadata": {},
   "source": []
  },
  {
   "cell_type": "raw",
   "id": "46586316-44b9-4c6d-8b75-4c17db04786a",
   "metadata": {},
   "source": []
  },
  {
   "cell_type": "raw",
   "id": "3a91f424-ee92-4907-b09f-0aeb1b773a80",
   "metadata": {},
   "source": []
  },
  {
   "cell_type": "raw",
   "id": "9490b6bc-7756-413e-872f-239629c13791",
   "metadata": {},
   "source": []
  },
  {
   "cell_type": "raw",
   "id": "bee83dd7-f05f-4ada-80d5-9b286c05b0f6",
   "metadata": {},
   "source": []
  },
  {
   "cell_type": "raw",
   "id": "dd9d541c-b9dd-4004-ae6a-7cec066181e8",
   "metadata": {},
   "source": []
  },
  {
   "cell_type": "raw",
   "id": "77186361-436a-4820-ad85-9fc0f52752c8",
   "metadata": {},
   "source": []
  },
  {
   "cell_type": "raw",
   "id": "11f3a9e2-dadd-4440-92e0-5c5776162071",
   "metadata": {},
   "source": []
  },
  {
   "cell_type": "raw",
   "id": "266ba799-5a78-4c6b-8c99-414d105f050c",
   "metadata": {},
   "source": []
  },
  {
   "cell_type": "raw",
   "id": "6fbe2c99-d7dc-4dd5-ba08-ae0bb48ea402",
   "metadata": {},
   "source": []
  },
  {
   "cell_type": "raw",
   "id": "2f0931ae-952e-45b9-852c-53bdeda37134",
   "metadata": {},
   "source": []
  },
  {
   "cell_type": "raw",
   "id": "62a792fc-1228-47fa-9df2-06434b9a1697",
   "metadata": {},
   "source": []
  },
  {
   "cell_type": "raw",
   "id": "5e7236bc-7ed8-4771-89e4-a794f328a7d3",
   "metadata": {},
   "source": []
  },
  {
   "cell_type": "raw",
   "id": "91356f01-f73f-4c21-9737-1739e5e7663e",
   "metadata": {},
   "source": []
  },
  {
   "cell_type": "raw",
   "id": "c2e83b81-3b0d-4881-b737-ccf0822c0031",
   "metadata": {},
   "source": []
  }
 ],
 "metadata": {
  "kernelspec": {
   "display_name": "Python 3 (ipykernel)",
   "language": "python",
   "name": "python3"
  },
  "language_info": {
   "codemirror_mode": {
    "name": "ipython",
    "version": 3
   },
   "file_extension": ".py",
   "mimetype": "text/x-python",
   "name": "python",
   "nbconvert_exporter": "python",
   "pygments_lexer": "ipython3",
   "version": "3.10.8"
  }
 },
 "nbformat": 4,
 "nbformat_minor": 5
}
