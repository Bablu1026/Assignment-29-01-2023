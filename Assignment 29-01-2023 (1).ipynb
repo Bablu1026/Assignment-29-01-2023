{
 "cells": [
  {
   "cell_type": "code",
   "execution_count": null,
   "id": "03af6485-984b-49d8-a8f1-dcf3fba809e8",
   "metadata": {},
   "outputs": [],
   "source": [
    "# Q:1 who developed Python programming language?\n",
    "# Ans: Guido Van Rossum"
   ]
  },
  {
   "cell_type": "code",
   "execution_count": null,
   "id": "5a5e9e22-ae6d-4210-afd1-2ad562c7209a",
   "metadata": {},
   "outputs": [],
   "source": [
    "# Q:2 which type of programming does python support?\n",
    "# Ans: Object-oriented programming and structured programming."
   ]
  },
  {
   "cell_type": "code",
   "execution_count": null,
   "id": "8d88c633-9143-4860-85b0-c13bdde3f8b5",
   "metadata": {},
   "outputs": [],
   "source": [
    "# Q:3 Is python case is sensitive when dealing with indentifier?\n",
    "# Ans: yes"
   ]
  },
  {
   "cell_type": "code",
   "execution_count": null,
   "id": "84715688-6618-4f75-b34b-f7cfa37a94bf",
   "metadata": {},
   "outputs": [],
   "source": [
    "# Q:4 what is the correct extension of the python file?\n",
    "# Ans: .py"
   ]
  },
  {
   "cell_type": "code",
   "execution_count": null,
   "id": "923f9b17-1d24-4be4-acf7-591936c31d78",
   "metadata": {},
   "outputs": [],
   "source": [
    "# Q:5 Is python code compiled or interpreted?\n",
    "# Ans: It is intrepreted."
   ]
  },
  {
   "cell_type": "code",
   "execution_count": null,
   "id": "73656b84-8b65-4759-9688-21171e20a300",
   "metadata": {},
   "outputs": [],
   "source": [
    "# Q:6 Name a few blocks of code used to define in python language?\n",
    "# Ans:  a module, a function body, and a class definition"
   ]
  },
  {
   "cell_type": "code",
   "execution_count": null,
   "id": "14467ca9-162b-4e83-853a-43976a33b4da",
   "metadata": {},
   "outputs": [],
   "source": [
    "# Q:7 State a character used to give sinle-line comments in python?\n",
    "# Ans: # is used "
   ]
  },
  {
   "cell_type": "code",
   "execution_count": null,
   "id": "cfb589cf-1a20-4c4c-a0e3-5d01d0a215e0",
   "metadata": {},
   "outputs": [],
   "source": [
    "# Q:8 Mention functions which can help us to find the version of python that we are currently working on it?\n",
    "# Ans: from platform import python_version\n",
    "     # print(python_version())"
   ]
  },
  {
   "cell_type": "code",
   "execution_count": null,
   "id": "c6bc4aa3-09e4-4220-abc3-d1b907d808fb",
   "metadata": {},
   "outputs": [],
   "source": [
    "# Q:9 Python supports the creation of anonymous function at runtime,using construct called\n",
    "# Ans: lambda"
   ]
  },
  {
   "cell_type": "code",
   "execution_count": null,
   "id": "efbeff18-ae1d-47e5-bdde-9a6aa42e1083",
   "metadata": {},
   "outputs": [],
   "source": [
    "# Q:10 What does pip stand for python?\n",
    "# Ans: preferr installer program"
   ]
  },
  {
   "cell_type": "code",
   "execution_count": null,
   "id": "c41c502b-dcb2-4fea-b42f-6c1fa11f7994",
   "metadata": {},
   "outputs": [],
   "source": [
    "# Q:11 Mention a few built-in functions in python?\n",
    "# Ans: append(),print(),type(),input()...etc"
   ]
  },
  {
   "cell_type": "code",
   "execution_count": null,
   "id": "879f8b59-cfd6-42fd-ae60-bcde7a842fa8",
   "metadata": {},
   "outputs": [],
   "source": [
    "# Q:12 What is the maximum possible length of an identifier in python?\n",
    "# Ans: no such limit"
   ]
  },
  {
   "cell_type": "code",
   "execution_count": null,
   "id": "56e7fd50-b50c-482c-8c14-28174fd6b369",
   "metadata": {},
   "outputs": [],
   "source": [
    "# Q:13 What are the benifits of using python?\n",
    "# Ans: 1) Simple to Use and Understand. For newcomers, Python is simple to understand and use.\n",
    "     # 2) Free and Open-Source.\n",
    "     # 3) Productivity has Increased.\n",
    "     # 4) intrepreted Language."
   ]
  },
  {
   "cell_type": "code",
   "execution_count": null,
   "id": "c361bedb-74ec-429d-95ae-133d8fbd393d",
   "metadata": {},
   "outputs": [],
   "source": [
    "# Q:14 How is memory managed in python?\n",
    "# Ans: Memory in Python is managed by Python private heap space"
   ]
  },
  {
   "cell_type": "code",
   "execution_count": null,
   "id": "b1ab9953-4aa3-4678-9a7b-002977651aba",
   "metadata": {},
   "outputs": [],
   "source": [
    "# Q:15 How to install python on windows and set path variable?\n",
    "# Ans:  Installation:- Open a browser to the Python website and download the Windows installer. 2. Double click on the downloaded file and install Python for all users, and ensure that Python is added to your path. Click on Install now to begin.\n",
    "\n",
    "# Path Way - Open a browser to the Python website and download the Windows installer. 2. Double click on the downloaded file and install Python for all users, and ensure that Python is added to your path. Click on Install now to begin\n"
   ]
  },
  {
   "cell_type": "code",
   "execution_count": null,
   "id": "bb1951dc-121d-42ac-afc9-7ec20cbbe3cd",
   "metadata": {},
   "outputs": [],
   "source": [
    "# Q:16 Is indentation required in python?\n",
    "# Ans: yes "
   ]
  },
  {
   "cell_type": "code",
   "execution_count": null,
   "id": "e8527174-2414-4194-8e81-9eb8e26d2bbe",
   "metadata": {},
   "outputs": [],
   "source": []
  },
  {
   "cell_type": "code",
   "execution_count": null,
   "id": "6aea46c5-3a8d-477a-9c5e-61b71e148d83",
   "metadata": {},
   "outputs": [],
   "source": []
  },
  {
   "cell_type": "code",
   "execution_count": null,
   "id": "4b72e77b-019a-4584-b689-bcb457c16a3d",
   "metadata": {},
   "outputs": [],
   "source": []
  },
  {
   "cell_type": "code",
   "execution_count": null,
   "id": "8ff5ee9e-3c45-46ec-ae83-680495cc8fb6",
   "metadata": {},
   "outputs": [],
   "source": []
  },
  {
   "cell_type": "code",
   "execution_count": null,
   "id": "42586e51-710d-4d29-a25c-636357fc9e4c",
   "metadata": {},
   "outputs": [],
   "source": []
  },
  {
   "cell_type": "code",
   "execution_count": null,
   "id": "9901ac04-2057-40b3-a2f1-89e43c853e0c",
   "metadata": {},
   "outputs": [],
   "source": []
  },
  {
   "cell_type": "code",
   "execution_count": null,
   "id": "d5914c59-2441-4165-a371-d6fdd2eba8fe",
   "metadata": {},
   "outputs": [],
   "source": []
  },
  {
   "cell_type": "code",
   "execution_count": null,
   "id": "e328c030-24a6-435b-a7a0-a07afb98dfa9",
   "metadata": {},
   "outputs": [],
   "source": []
  },
  {
   "cell_type": "code",
   "execution_count": null,
   "id": "a2ceb833-531b-4bb8-94ca-21ea496dc64f",
   "metadata": {},
   "outputs": [],
   "source": []
  },
  {
   "cell_type": "code",
   "execution_count": null,
   "id": "1e70b184-e366-45e6-a5b4-fa24bd6a821b",
   "metadata": {},
   "outputs": [],
   "source": []
  },
  {
   "cell_type": "code",
   "execution_count": null,
   "id": "30ff564a-270b-466f-84e0-931c8a6862b1",
   "metadata": {},
   "outputs": [],
   "source": []
  },
  {
   "cell_type": "code",
   "execution_count": null,
   "id": "62fea67e-90de-4b14-9968-ff6ad069d5b3",
   "metadata": {},
   "outputs": [],
   "source": []
  },
  {
   "cell_type": "code",
   "execution_count": null,
   "id": "4cad64da-67b7-4b99-9921-95575c006efa",
   "metadata": {},
   "outputs": [],
   "source": []
  },
  {
   "cell_type": "code",
   "execution_count": null,
   "id": "63c9cceb-d1b9-4d97-90ff-c6178298b28c",
   "metadata": {},
   "outputs": [],
   "source": []
  },
  {
   "cell_type": "code",
   "execution_count": null,
   "id": "db2da787-a7ac-4342-ba35-b22bfde005fc",
   "metadata": {},
   "outputs": [],
   "source": []
  },
  {
   "cell_type": "code",
   "execution_count": null,
   "id": "f024b370-1b7c-4859-ae89-f743c5f33d91",
   "metadata": {},
   "outputs": [],
   "source": []
  },
  {
   "cell_type": "code",
   "execution_count": null,
   "id": "ef8a5deb-ccd6-4ec6-a283-d49a8b061101",
   "metadata": {},
   "outputs": [],
   "source": []
  },
  {
   "cell_type": "code",
   "execution_count": null,
   "id": "31f58539-92bf-4a48-8956-f0a28daa48ad",
   "metadata": {},
   "outputs": [],
   "source": []
  },
  {
   "cell_type": "code",
   "execution_count": null,
   "id": "e169b420-2014-4b5d-9165-5a6265403ddc",
   "metadata": {},
   "outputs": [],
   "source": []
  },
  {
   "cell_type": "code",
   "execution_count": null,
   "id": "c9a299cf-0085-4ca6-9610-f3cd12eebda9",
   "metadata": {},
   "outputs": [],
   "source": []
  },
  {
   "cell_type": "code",
   "execution_count": null,
   "id": "ac94464c-ec53-491c-90e9-58d9542ddedf",
   "metadata": {},
   "outputs": [],
   "source": []
  },
  {
   "cell_type": "code",
   "execution_count": null,
   "id": "45c63241-3c79-47e3-8189-269b8e1960f0",
   "metadata": {},
   "outputs": [],
   "source": []
  },
  {
   "cell_type": "code",
   "execution_count": null,
   "id": "0bb3c189-8bba-4d78-80b5-c3b5e6c29cee",
   "metadata": {},
   "outputs": [],
   "source": []
  },
  {
   "cell_type": "code",
   "execution_count": null,
   "id": "c4fccc13-4929-4127-b1ba-62fb98a2a3f1",
   "metadata": {},
   "outputs": [],
   "source": []
  },
  {
   "cell_type": "code",
   "execution_count": null,
   "id": "ae70873b-6c15-485f-a139-c7625996d859",
   "metadata": {},
   "outputs": [],
   "source": []
  },
  {
   "cell_type": "code",
   "execution_count": null,
   "id": "65130c97-377a-4d69-ab80-47c1461a4bb0",
   "metadata": {},
   "outputs": [],
   "source": []
  },
  {
   "cell_type": "code",
   "execution_count": null,
   "id": "80cca16c-eb42-4ceb-b95d-a0933fd36880",
   "metadata": {},
   "outputs": [],
   "source": []
  },
  {
   "cell_type": "code",
   "execution_count": null,
   "id": "9b4e7e16-a24a-44c9-b97f-b431feb4e2d6",
   "metadata": {},
   "outputs": [],
   "source": []
  },
  {
   "cell_type": "code",
   "execution_count": null,
   "id": "5705809f-0b96-4375-9bd5-ce7f4141bf5d",
   "metadata": {},
   "outputs": [],
   "source": []
  },
  {
   "cell_type": "code",
   "execution_count": null,
   "id": "4850609a-b017-4347-8f34-86d9d29e0fd7",
   "metadata": {},
   "outputs": [],
   "source": []
  },
  {
   "cell_type": "code",
   "execution_count": null,
   "id": "d77b64b6-834f-4d64-a69a-699c62cabc36",
   "metadata": {},
   "outputs": [],
   "source": []
  },
  {
   "cell_type": "code",
   "execution_count": null,
   "id": "972da467-5f6c-4298-86a9-8b348d0f3457",
   "metadata": {},
   "outputs": [],
   "source": []
  },
  {
   "cell_type": "code",
   "execution_count": null,
   "id": "fbf5f313-71c4-4422-b068-998848c6745e",
   "metadata": {},
   "outputs": [],
   "source": []
  }
 ],
 "metadata": {
  "kernelspec": {
   "display_name": "Python 3 (ipykernel)",
   "language": "python",
   "name": "python3"
  },
  "language_info": {
   "codemirror_mode": {
    "name": "ipython",
    "version": 3
   },
   "file_extension": ".py",
   "mimetype": "text/x-python",
   "name": "python",
   "nbconvert_exporter": "python",
   "pygments_lexer": "ipython3",
   "version": "3.10.8"
  }
 },
 "nbformat": 4,
 "nbformat_minor": 5
}
